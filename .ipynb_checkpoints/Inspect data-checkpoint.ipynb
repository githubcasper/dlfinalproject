{
 "cells": [
  {
   "cell_type": "code",
   "execution_count": 78,
   "metadata": {},
   "outputs": [],
   "source": [
    "import torch\n",
    "import torchvision\n",
    "import torchvision.transforms as transforms\n",
    "import torch.nn as nn\n",
    "import torch.nn.functional as F\n",
    "import pandas as pd\n",
    "from torch.utils.data import Dataset, SubsetRandomSampler\n",
    "from torch import optim\n",
    "from torchvision import datasets\n",
    "from torchvision.transforms import ToTensor\n",
    "import matplotlib.pyplot as plt\n",
    "import os\n",
    "from torchvision.io import read_image\n",
    "import numpy as np\n",
    "from collections import Counter"
   ]
  },
  {
   "cell_type": "markdown",
   "metadata": {},
   "source": [
    "## Inspect dataset"
   ]
  },
  {
   "cell_type": "code",
   "execution_count": 14,
   "metadata": {},
   "outputs": [
    {
     "data": {
      "text/html": [
       "<div>\n",
       "<style scoped>\n",
       "    .dataframe tbody tr th:only-of-type {\n",
       "        vertical-align: middle;\n",
       "    }\n",
       "\n",
       "    .dataframe tbody tr th {\n",
       "        vertical-align: top;\n",
       "    }\n",
       "\n",
       "    .dataframe thead th {\n",
       "        text-align: right;\n",
       "    }\n",
       "</style>\n",
       "<table border=\"1\" class=\"dataframe\">\n",
       "  <thead>\n",
       "    <tr style=\"text-align: right;\">\n",
       "      <th></th>\n",
       "      <th>category</th>\n",
       "      <th>headline</th>\n",
       "      <th>authors</th>\n",
       "      <th>link</th>\n",
       "      <th>short_description</th>\n",
       "      <th>date</th>\n",
       "    </tr>\n",
       "  </thead>\n",
       "  <tbody>\n",
       "    <tr>\n",
       "      <th>0</th>\n",
       "      <td>CRIME</td>\n",
       "      <td>There Were 2 Mass Shootings In Texas Last Week...</td>\n",
       "      <td>Melissa Jeltsen</td>\n",
       "      <td>https://www.huffingtonpost.com/entry/texas-ama...</td>\n",
       "      <td>She left her husband. He killed their children...</td>\n",
       "      <td>2018-05-26</td>\n",
       "    </tr>\n",
       "    <tr>\n",
       "      <th>1</th>\n",
       "      <td>ENTERTAINMENT</td>\n",
       "      <td>Will Smith Joins Diplo And Nicky Jam For The 2...</td>\n",
       "      <td>Andy McDonald</td>\n",
       "      <td>https://www.huffingtonpost.com/entry/will-smit...</td>\n",
       "      <td>Of course it has a song.</td>\n",
       "      <td>2018-05-26</td>\n",
       "    </tr>\n",
       "    <tr>\n",
       "      <th>2</th>\n",
       "      <td>ENTERTAINMENT</td>\n",
       "      <td>Hugh Grant Marries For The First Time At Age 57</td>\n",
       "      <td>Ron Dicker</td>\n",
       "      <td>https://www.huffingtonpost.com/entry/hugh-gran...</td>\n",
       "      <td>The actor and his longtime girlfriend Anna Ebe...</td>\n",
       "      <td>2018-05-26</td>\n",
       "    </tr>\n",
       "    <tr>\n",
       "      <th>3</th>\n",
       "      <td>ENTERTAINMENT</td>\n",
       "      <td>Jim Carrey Blasts 'Castrato' Adam Schiff And D...</td>\n",
       "      <td>Ron Dicker</td>\n",
       "      <td>https://www.huffingtonpost.com/entry/jim-carre...</td>\n",
       "      <td>The actor gives Dems an ass-kicking for not fi...</td>\n",
       "      <td>2018-05-26</td>\n",
       "    </tr>\n",
       "    <tr>\n",
       "      <th>4</th>\n",
       "      <td>ENTERTAINMENT</td>\n",
       "      <td>Julianna Margulies Uses Donald Trump Poop Bags...</td>\n",
       "      <td>Ron Dicker</td>\n",
       "      <td>https://www.huffingtonpost.com/entry/julianna-...</td>\n",
       "      <td>The \"Dietland\" actress said using the bags is ...</td>\n",
       "      <td>2018-05-26</td>\n",
       "    </tr>\n",
       "  </tbody>\n",
       "</table>\n",
       "</div>"
      ],
      "text/plain": [
       "        category                                           headline  \\\n",
       "0          CRIME  There Were 2 Mass Shootings In Texas Last Week...   \n",
       "1  ENTERTAINMENT  Will Smith Joins Diplo And Nicky Jam For The 2...   \n",
       "2  ENTERTAINMENT    Hugh Grant Marries For The First Time At Age 57   \n",
       "3  ENTERTAINMENT  Jim Carrey Blasts 'Castrato' Adam Schiff And D...   \n",
       "4  ENTERTAINMENT  Julianna Margulies Uses Donald Trump Poop Bags...   \n",
       "\n",
       "           authors                                               link  \\\n",
       "0  Melissa Jeltsen  https://www.huffingtonpost.com/entry/texas-ama...   \n",
       "1    Andy McDonald  https://www.huffingtonpost.com/entry/will-smit...   \n",
       "2       Ron Dicker  https://www.huffingtonpost.com/entry/hugh-gran...   \n",
       "3       Ron Dicker  https://www.huffingtonpost.com/entry/jim-carre...   \n",
       "4       Ron Dicker  https://www.huffingtonpost.com/entry/julianna-...   \n",
       "\n",
       "                                   short_description       date  \n",
       "0  She left her husband. He killed their children... 2018-05-26  \n",
       "1                           Of course it has a song. 2018-05-26  \n",
       "2  The actor and his longtime girlfriend Anna Ebe... 2018-05-26  \n",
       "3  The actor gives Dems an ass-kicking for not fi... 2018-05-26  \n",
       "4  The \"Dietland\" actress said using the bags is ... 2018-05-26  "
      ]
     },
     "execution_count": 14,
     "metadata": {},
     "output_type": "execute_result"
    }
   ],
   "source": [
    "df = pd.read_json('News_Category_Dataset_v2.json', lines = True)\n",
    "df.head()"
   ]
  },
  {
   "cell_type": "code",
   "execution_count": 23,
   "metadata": {},
   "outputs": [
    {
     "name": "stdout",
     "output_type": "stream",
     "text": [
      "In this project we are interested in predicting the category of online news through their headlines.\n",
      "In our dataset there are 200853 different news articles with in total 41 different\n",
      "news categories. The length of the average headline is 57.94 characters, and 9.54 \n",
      "in terms of average number of words.\n"
     ]
    }
   ],
   "source": [
    "amount_of_data = len(df)\n",
    "amount_of_labels = len(set(df['category']))\n",
    "mean_len_headline = round(np.mean([len(i) for i in df['headline']]),2)\n",
    "mean_words_headline = round(np.mean([i.count(\" \") + 1 for i in df['headline']]),2)\n",
    "\n",
    "print(f\"\"\"In this project we are interested in predicting the category of online news through their headlines.\n",
    "In our dataset there are {amount_of_data} different news articles with in total {amount_of_labels} different\n",
    "news categories. The length of the average headline is {mean_len_headline} characters, and {mean_words_headline} \n",
    "in terms of average number of words.\"\"\")"
   ]
  },
  {
   "cell_type": "markdown",
   "metadata": {},
   "source": [
    "Here, we inspect the distribution of our labels in the dataset."
   ]
  },
  {
   "cell_type": "code",
   "execution_count": 31,
   "metadata": {},
   "outputs": [
    {
     "data": {
      "text/plain": [
       "<BarContainer object of 41 artists>"
      ]
     },
     "execution_count": 31,
     "metadata": {},
     "output_type": "execute_result"
    },
    {
     "data": {
      "image/png": "[encoded data removed]",
      "text/plain": [
       "<Figure size 1332x756 with 1 Axes>"
      ]
     },
     "metadata": {
      "needs_background": "light"
     },
     "output_type": "display_data"
    }
   ],
   "source": [
    "label_occurence = Counter(df['category']).most_common()\n",
    "plt.rcParams[\"figure.figsize\"]=(18.5, 10.5)\n",
    "plt.barh([i[0] for i in label_occurence], [i[1] for i in label_occurence])"
   ]
  },
  {
   "cell_type": "markdown",
   "metadata": {},
   "source": [
    "The dataset seems to be imbalanced with a lot of occurences of news categories \"Politics\", \"Wellness\", and \"Entertainment\". None the less, there are at least 1.000 occurences of each label, which means we are still content with using the full dataset."
   ]
  },
  {
   "cell_type": "markdown",
   "metadata": {},
   "source": [
    "## Create DataLoader"
   ]
  },
  {
   "cell_type": "code",
   "execution_count": 76,
   "metadata": {},
   "outputs": [],
   "source": [
    "class News_Dataset(Dataset):\n",
    "    def __init__(self, json_path):\n",
    "        self.df = pd.read_json(json_path, lines = True)[['category', 'headline']]\n",
    "\n",
    "    def __len__(self):\n",
    "        return len(self.df)\n",
    "\n",
    "    def __getitem__(self, idx):\n",
    "        data_row = self.df.iloc[idx, :]\n",
    "        data_point_category = data_row[0]\n",
    "        data_point_headline = data_row[1]\n",
    "        return data_point_category, data_point_headline"
   ]
  },
  {
   "cell_type": "markdown",
   "metadata": {},
   "source": [
    "### Trying out the dataloader"
   ]
  },
  {
   "cell_type": "code",
   "execution_count": 80,
   "metadata": {},
   "outputs": [
    {
     "name": "stdout",
     "output_type": "stream",
     "text": [
      "TRAVEL America's Most Endangered Historic Places 2012 (PHOTOS)\n",
      "POLITICS Fact-Checking The Third Democratic Debate\n",
      "TRAVEL Best Vacations for Health Nuts\n",
      "HEALTHY LIVING Is This the Best Diet Ever? (Probably Not)\n",
      "PARENTING Summer Camp: Tales Of A Grown-Up Sleepaway Camp Kid\n",
      "STYLE FAShion Arts Society in Chicago: The Best Part of the Day\n",
      "WEIRD NEWS Watch This Christmas Tree Run Through The Streets Of Tokyo\n",
      "IMPACT 'Where R U' Text Takes On Chilling Meaning When Dad Messages Refugee Son\n",
      "POLITICS The Tan Suit\n",
      "HEALTHY LIVING The Real Secret To Success\n",
      "WELLNESS 11 Fearless Questions To Ask BEFORE You Look For Love\n",
      "ENTERTAINMENT Frances McDormand Takes 'Inclusion Rider' To The Oscars. Here's What It Means.\n",
      "HEALTHY LIVING Don't Be Afraid To Trust In The Unknown\n",
      "DIVORCE Sharing the Silver Linings of Divorce\n",
      "WEIRD NEWS Lightning Strikes Whiskey, Causes Epic Firenado\n",
      "TRAVEL Ask Airfarewatchdog: JetBlue Schedule Change And Orlando's \"Other\" Airport\n",
      "POLITICS California Turns Itself Into A 'Sanctuary State'\n",
      "WOMEN If 'Real Men' Posed In Underwear Ads\n",
      "FIFTY How Your Body Image Affects Your Daughter's Self-Esteem\n",
      "FOOD & DRINK Baked Hot Chocolate Recipe Turns Cozy Winter Drink Into So Much More\n",
      "WOMEN Asian Women Take On White Male Privilege In Role-Reversing  Video\n",
      "HOME & LIVING Nate Berkus And Jeremiah Brent Step Out In Matching Denim Outfits In New York City (PHOTO)\n",
      "BUSINESS Libor Scandal: British Documents Reveal Regulators Did Little\n",
      "POLITICS Clintons Continue To Tout Legacy Where Others See Era Of Mistakes And Scandal\n",
      "QUEER VOICES Getting Naked With A Gay 'Cripple'\n"
     ]
    }
   ],
   "source": [
    "dataset = News_Dataset('News_Category_Dataset_v2.json')\n",
    "batch_size = 5\n",
    "test_split = 0.1\n",
    "shuffle_dataset = True\n",
    "random_seed = 10\n",
    "\n",
    "# Create indices to randomly split data into training and test sets:\n",
    "\n",
    "indices = list(range(amount_of_data))\n",
    "split = int(np.floor(test_split * amount_of_data))\n",
    "if shuffle_dataset:\n",
    "    np.random.seed(random_seed)\n",
    "    np.random.shuffle(indices)\n",
    "train_indices, test_indices = indices[split:], indices[:split]\n",
    "\n",
    "# Create samplers and DataLoaders\n",
    "train_sampler = SubsetRandomSampler(train_indices)\n",
    "test_sampler = SubsetRandomSampler(test_indices)\n",
    "\n",
    "train_loader = torch.utils.data.DataLoader(dataset, \n",
    "                                           batch_size=batch_size, \n",
    "                                           sampler=train_sampler)\n",
    "\n",
    "test_loader = torch.utils.data.DataLoader(dataset, \n",
    "                                          batch_size=batch_size,\n",
    "                                          sampler=test_sampler)\n",
    "\n",
    "# get some images\n",
    "dataiter = iter(test_loader)\n",
    "categories, headlines = dataiter.next()\n",
    "\n",
    "\n",
    "for i in range(5): #Run through 5 batches\n",
    "    categories, headlines = dataiter.next()\n",
    "    for category, headline in zip(categories, headlines): # Run through all samples in a batch\n",
    "        print(category, headline)"
   ]
  }
 ],
 "metadata": {
  "kernelspec": {
   "display_name": "Python 3",
   "language": "python",
   "name": "python3"
  },
  "language_info": {
   "codemirror_mode": {
    "name": "ipython",
    "version": 3
   },
   "file_extension": ".py",
   "mimetype": "text/x-python",
   "name": "python",
   "nbconvert_exporter": "python",
   "pygments_lexer": "ipython3",
   "version": "3.7.9"
  }
 },
 "nbformat": 4,
 "nbformat_minor": 4
}
